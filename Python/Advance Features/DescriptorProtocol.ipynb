{
 "cells": [
  {
   "cell_type": "code",
   "execution_count": 1,
   "metadata": {},
   "outputs": [],
   "source": [
    "class Person:\n",
    "    def __init__(self, name:str, age:int):\n",
    "        self.name = name\n",
    "        self.age = age\n",
    "    def __repr__(self) -> str:\n",
    "        return f\"Person(name='{self.name}', age={self.age})\"\n",
    "    def __str__(self) -> str:\n",
    "        return f\"Name: {self.name}, Age: {self.age}\""
   ]
  },
  {
   "cell_type": "code",
   "execution_count": 3,
   "metadata": {},
   "outputs": [
    {
     "name": "stdout",
     "output_type": "stream",
     "text": [
      "Person(name='Aliyan', age=20)\n"
     ]
    }
   ],
   "source": [
    "person = Person(\"Aliyan\", 20)\n",
    "print(repr(person))"
   ]
  }
 ],
 "metadata": {
  "kernelspec": {
   "display_name": "Python 3",
   "language": "python",
   "name": "python3"
  },
  "language_info": {
   "codemirror_mode": {
    "name": "ipython",
    "version": 3
   },
   "file_extension": ".py",
   "mimetype": "text/x-python",
   "name": "python",
   "nbconvert_exporter": "python",
   "pygments_lexer": "ipython3",
   "version": "3.12.2"
  }
 },
 "nbformat": 4,
 "nbformat_minor": 2
}
