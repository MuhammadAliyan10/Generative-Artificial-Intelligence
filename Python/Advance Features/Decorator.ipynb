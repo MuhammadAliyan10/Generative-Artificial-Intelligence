{
 "cells": [
  {
   "cell_type": "code",
   "execution_count": 8,
   "metadata": {},
   "outputs": [],
   "source": [
    "def my__decorator(func):\n",
    "    def wrapper(*args, **kwargs):\n",
    "        print(\"Hello, Nice to meet you.\")\n",
    "        result = func(*args, **kwargs)\n",
    "        print(\"It feels so good to meet you, Goodbye.\")\n",
    "        return result\n",
    "    return wrapper"
   ]
  },
  {
   "cell_type": "code",
   "execution_count": 10,
   "metadata": {},
   "outputs": [
    {
     "name": "stdout",
     "output_type": "stream",
     "text": [
      "Hello, Nice to meet you.\n",
      "Hello Aliyan\n",
      "It feels so good to meet you, Goodbye.\n"
     ]
    }
   ],
   "source": [
    "@my__decorator\n",
    "def name(name):\n",
    "    print(\"Hello \" + name)\n",
    "name(\"Aliyan\")"
   ]
  },
  {
   "cell_type": "code",
   "execution_count": 17,
   "metadata": {},
   "outputs": [],
   "source": [
    "def my__tax(func):\n",
    "    def wrapper(amount):\n",
    "        print(f\"Tax amount: {amount * 0.1}\")\n",
    "        result = func(amount)\n",
    "        print(f\"Total amount after tax: {result}\")\n",
    "    return wrapper"
   ]
  },
  {
   "cell_type": "code",
   "execution_count": 19,
   "metadata": {},
   "outputs": [
    {
     "name": "stdout",
     "output_type": "stream",
     "text": [
      "Tax amount: 10.0\n",
      "Total amount after tax: 110.00000000000001\n"
     ]
    }
   ],
   "source": [
    "@my__tax\n",
    "def calculate_total(amount):\n",
    "    return amount * 1.1\n",
    "calculate_total(100)"
   ]
  },
  {
   "cell_type": "code",
   "execution_count": null,
   "metadata": {},
   "outputs": [],
   "source": []
  }
 ],
 "metadata": {
  "kernelspec": {
   "display_name": "Python 3",
   "language": "python",
   "name": "python3"
  },
  "language_info": {
   "codemirror_mode": {
    "name": "ipython",
    "version": 3
   },
   "file_extension": ".py",
   "mimetype": "text/x-python",
   "name": "python",
   "nbconvert_exporter": "python",
   "pygments_lexer": "ipython3",
   "version": "3.12.2"
  }
 },
 "nbformat": 4,
 "nbformat_minor": 2
}
