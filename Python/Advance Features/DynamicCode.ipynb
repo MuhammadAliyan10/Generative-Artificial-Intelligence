{
 "cells": [
  {
   "cell_type": "code",
   "execution_count": 1,
   "metadata": {},
   "outputs": [
    {
     "name": "stdout",
     "output_type": "stream",
     "text": [
      "Hello, Aliyan!\n"
     ]
    }
   ],
   "source": [
    "def demonstrateExec():\n",
    "    code = \"\"\"def greet(name):\n",
    "    return f\"Hello, {name}!\\\"\"\"\"\n",
    "    localScope = {}\n",
    "    exec(code, {}, localScope)\n",
    "    print(localScope['greet']('Aliyan'))\n",
    "demonstrateExec()"
   ]
  },
  {
   "cell_type": "code",
   "execution_count": 2,
   "metadata": {},
   "outputs": [
    {
     "name": "stdout",
     "output_type": "stream",
     "text": [
      "Hello World\n",
      "None\n"
     ]
    }
   ],
   "source": [
    "def demonstrateEval():\n",
    "    code = input(\"Add code: \")\n",
    "    result = eval(code)\n",
    "    print(result)\n",
    "demonstrateEval()\n"
   ]
  },
  {
   "cell_type": "code",
   "execution_count": 3,
   "metadata": {},
   "outputs": [
    {
     "name": "stdout",
     "output_type": "stream",
     "text": [
      "Hello, Aliyan!\n",
      "None\n"
     ]
    }
   ],
   "source": [
    "demonstrateEval()"
   ]
  },
  {
   "cell_type": "code",
   "execution_count": null,
   "metadata": {},
   "outputs": [],
   "source": []
  }
 ],
 "metadata": {
  "kernelspec": {
   "display_name": "Python 3",
   "language": "python",
   "name": "python3"
  },
  "language_info": {
   "codemirror_mode": {
    "name": "ipython",
    "version": 3
   },
   "file_extension": ".py",
   "mimetype": "text/x-python",
   "name": "python",
   "nbconvert_exporter": "python",
   "pygments_lexer": "ipython3",
   "version": "3.12.2"
  }
 },
 "nbformat": 4,
 "nbformat_minor": 2
}
