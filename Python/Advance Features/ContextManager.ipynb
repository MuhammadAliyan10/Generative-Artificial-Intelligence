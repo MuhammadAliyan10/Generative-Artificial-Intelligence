{
 "cells": [
  {
   "cell_type": "code",
   "execution_count": 1,
   "metadata": {},
   "outputs": [],
   "source": [
    "class FileManger:\n",
    "    def __init__(self, fileName, mode):\n",
    "        self.fileName = fileName\n",
    "        self.mode = mode\n",
    "        self.file = None\n",
    "    def __enter__(self):\n",
    "        self.file = open(self.fileName, self.mode)\n",
    "        print(f\"Opening file {self.fileName}....\")\n",
    "        return self.file\n",
    "    def __exit__(self, exc_type, exc_val, exc_tb):\n",
    "        self.file.close()\n",
    "        print(f\"Closing file {self.fileName}..\")\n",
    "        if exc_type:\n",
    "            print(f\"An error occurred: {exc_val}\")\n",
    "        return True"
   ]
  },
  {
   "cell_type": "code",
   "execution_count": 2,
   "metadata": {},
   "outputs": [
    {
     "name": "stdout",
     "output_type": "stream",
     "text": [
      "Opening file $example.text\n",
      "Closing file $example.text\n"
     ]
    }
   ],
   "source": [
    "with FileManger(\"example.text\", \"w\") as file:\n",
    "    file.write(\"Hello, World!\")"
   ]
  },
  {
   "cell_type": "code",
   "execution_count": null,
   "metadata": {},
   "outputs": [],
   "source": []
  }
 ],
 "metadata": {
  "kernelspec": {
   "display_name": "Python 3",
   "language": "python",
   "name": "python3"
  },
  "language_info": {
   "codemirror_mode": {
    "name": "ipython",
    "version": 3
   },
   "file_extension": ".py",
   "mimetype": "text/x-python",
   "name": "python",
   "nbconvert_exporter": "python",
   "pygments_lexer": "ipython3",
   "version": "3.12.2"
  }
 },
 "nbformat": 4,
 "nbformat_minor": 2
}
